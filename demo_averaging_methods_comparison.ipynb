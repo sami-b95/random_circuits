{
 "cells": [
  {
   "cell_type": "code",
   "execution_count": 1,
   "metadata": {},
   "outputs": [],
   "source": [
    "from functools import reduce\n",
    "from importlib import reload\n",
    "import numpy as np\n",
    "import tensornetwork as tn\n",
    "\n",
    "import converters\n",
    "import simple_tensors\n",
    "import twirl\n",
    "import twirl_optimized\n",
    "simple_tensors = reload(simple_tensors)\n",
    "twirl = reload(twirl)\n",
    "twirl_optimized = reload(twirl_optimized)"
   ]
  },
  {
   "cell_type": "markdown",
   "metadata": {},
   "source": [
    "# Introduction"
   ]
  },
  {
   "cell_type": "markdown",
   "metadata": {},
   "source": [
    "This notebook demonstrates the different ways of computing/estimating\n",
    "$$\\int_{\\mathbf{U}(2^n)}\\!\\mathrm{d}U\\,\\langle i_1 \\ldots i_t|U^{\\otimes t}|i_1' \\ldots i_t'\\rangle\\langle j_1' \\ldots j_t'|U^{\\dagger\\otimes t}|j_1 \\ldots j_t\\rangle$$"
   ]
  },
  {
   "cell_type": "markdown",
   "metadata": {},
   "source": [
    "# Common parameters and data"
   ]
  },
  {
   "cell_type": "markdown",
   "metadata": {},
   "source": [
    "## Parameters"
   ]
  },
  {
   "cell_type": "markdown",
   "metadata": {},
   "source": [
    "Number of qubits ($n$ in the equation above)."
   ]
  },
  {
   "cell_type": "code",
   "execution_count": 2,
   "metadata": {},
   "outputs": [],
   "source": [
    "n_qubits = 2"
   ]
  },
  {
   "cell_type": "markdown",
   "metadata": {},
   "source": [
    "Number of tensor powers of $U$ in Haar integrations ($t$ in the equation above)."
   ]
  },
  {
   "cell_type": "code",
   "execution_count": 3,
   "metadata": {},
   "outputs": [],
   "source": [
    "n_tensor_factors = 4"
   ]
  },
  {
   "cell_type": "markdown",
   "metadata": {},
   "source": [
    "Number of samples (for statistical averaging method)."
   ]
  },
  {
   "cell_type": "code",
   "execution_count": 4,
   "metadata": {},
   "outputs": [],
   "source": [
    "n_samples = 100"
   ]
  },
  {
   "cell_type": "markdown",
   "metadata": {},
   "source": [
    "## Computed parameters"
   ]
  },
  {
   "cell_type": "code",
   "execution_count": 5,
   "metadata": {},
   "outputs": [],
   "source": [
    "d_value = 2 ** n_qubits"
   ]
  },
  {
   "cell_type": "markdown",
   "metadata": {},
   "source": [
    "## Random bra-kets generation"
   ]
  },
  {
   "cell_type": "markdown",
   "metadata": {},
   "source": [
    "Generate random indices $i_1, \\ldots, i_t, i_1', \\ldots, i_t', j_1, \\ldots, j_t, j_1', \\ldots, j_t'$."
   ]
  },
  {
   "cell_type": "code",
   "execution_count": 6,
   "metadata": {},
   "outputs": [],
   "source": [
    "basis_labels_right = np.random.randint(0, d_value, n_tensor_factors)\n",
    "basis_labels_mid_right = np.random.randint(0, d_value, n_tensor_factors)\n",
    "basis_labels_mid_left = np.copy(basis_labels_mid_right)\n",
    "basis_labels_left = np.copy(basis_labels_right)"
   ]
  },
  {
   "cell_type": "markdown",
   "metadata": {},
   "source": [
    "Comment these to enforce the constraint $i_1 = j_1, \\ldots, i_t = j_t$ and $i_1' = j_1', \\ldots, i_t' = j_t'$. This makes the terms to be averaged all positive and helps cure the \"sign problem\". Note that the XEB involves summing averages satisfying this assumption."
   ]
  },
  {
   "cell_type": "code",
   "execution_count": 7,
   "metadata": {},
   "outputs": [
    {
     "data": {
      "text/plain": [
       "'\\nnp.random.shuffle(basis_labels_mid_left)\\nnp.random.shuffle(basis_labels_left)\\n'"
      ]
     },
     "execution_count": 7,
     "metadata": {},
     "output_type": "execute_result"
    }
   ],
   "source": [
    "\"\"\"\n",
    "np.random.shuffle(basis_labels_mid_left)\n",
    "np.random.shuffle(basis_labels_left)\n",
    "\"\"\""
   ]
  },
  {
   "cell_type": "markdown",
   "metadata": {},
   "source": [
    "# Calculation methods"
   ]
  },
  {
   "cell_type": "markdown",
   "metadata": {},
   "source": [
    "### Defining $X := |i_1' \\ldots i_t'\\rangle\\langle j_1' \\ldots j_t'|$ and computing $\\int_{\\mathbf{U}(2^n)}\\!\\mathrm{d}U\\,U^{\\otimes t}XU^{\\dagger \\otimes t}$."
   ]
  },
  {
   "cell_type": "code",
   "execution_count": 8,
   "metadata": {},
   "outputs": [],
   "source": [
    "X = tn.Node(\n",
    "    reduce(np.kron, [\n",
    "        simple_tensors.computational_basis_matrix(d_value, i, j).tensor\n",
    "        for i, j in zip(basis_labels_mid_left, basis_labels_mid_right)\n",
    "    ])\n",
    "    .reshape((d_value, d_value) * n_tensor_factors))"
   ]
  },
  {
   "cell_type": "code",
   "execution_count": 9,
   "metadata": {
    "scrolled": true
   },
   "outputs": [
    {
     "data": {
      "text/plain": [
       "0.0042658730158730155"
      ]
     },
     "execution_count": 9,
     "metadata": {},
     "output_type": "execute_result"
    }
   ],
   "source": [
    "twirl.numerical_haar_average_twirl(X, d_value, n_tensor_factors)[tuple(np.concatenate((basis_labels_left, basis_labels_right)))]"
   ]
  },
  {
   "cell_type": "markdown",
   "metadata": {},
   "source": [
    "### Calculating symbolic average of $\\langle\\phi|U^{\\otimes t}|\\phi'\\rangle\\langle\\psi'|U^{\\dagger\\otimes t}|\\psi\\rangle$ and evaluating for computational basis vectors."
   ]
  },
  {
   "cell_type": "code",
   "execution_count": 10,
   "metadata": {},
   "outputs": [],
   "source": [
    "symbolic_average, d_symbol = twirl.symbolic_haar_average_bra_ket(n_tensor_factors)"
   ]
  },
  {
   "cell_type": "code",
   "execution_count": 11,
   "metadata": {},
   "outputs": [
    {
     "data": {
      "text/plain": [
       "0.0042658730158730155"
      ]
     },
     "execution_count": 11,
     "metadata": {},
     "output_type": "execute_result"
    }
   ],
   "source": [
    "twirl.numerical_haar_average_computational_basis(\n",
    "    basis_labels_left,\n",
    "    basis_labels_mid_left,\n",
    "    basis_labels_mid_right,\n",
    "    basis_labels_right,\n",
    "    d_value,\n",
    "    symbolic_average,\n",
    "    d_symbol\n",
    ")"
   ]
  },
  {
   "cell_type": "markdown",
   "metadata": {},
   "source": [
    "### Directly calculating $\\int_{\\mathbf{U}(2^n)}\\!\\mathrm{d}U\\,\\langle i_1 \\ldots i_t|U^{\\otimes t}|i_1' \\ldots i_t'\\rangle\\langle j_1' \\ldots j_t'|U^{\\dagger\\otimes t}|j_1 \\ldots j_t\\rangle$ from [1902.08539, theorem 3.1]."
   ]
  },
  {
   "cell_type": "code",
   "execution_count": 12,
   "metadata": {},
   "outputs": [
    {
     "data": {
      "text/plain": [
       "0.0042658730158730155"
      ]
     },
     "execution_count": 12,
     "metadata": {},
     "output_type": "execute_result"
    }
   ],
   "source": [
    "twirl_optimized.numerical_haar_average_computational_basis_optimized(\n",
    "    basis_labels_left,\n",
    "    basis_labels_mid_left,\n",
    "    basis_labels_mid_right,\n",
    "    basis_labels_right,\n",
    "    d_value\n",
    ")"
   ]
  },
  {
   "cell_type": "markdown",
   "metadata": {},
   "source": [
    "### Statistical averaging"
   ]
  },
  {
   "cell_type": "code",
   "execution_count": 13,
   "metadata": {},
   "outputs": [
    {
     "name": "stdout",
     "output_type": "stream",
     "text": [
      "mean: (0.005372094422333309+0j)\n",
      "estimated error: 0.0009399179813662027\n"
     ]
    }
   ],
   "source": [
    "samples = twirl.haar_statistical_sample_computational_basis(\n",
    "    basis_labels_left,\n",
    "    basis_labels_mid_left,\n",
    "    basis_labels_mid_right,\n",
    "    basis_labels_right,\n",
    "    d_value,\n",
    "    n_samples\n",
    ")\n",
    "print(\"mean: {}\\nestimated error: {}\".format(np.mean(samples), np.std(samples) / np.sqrt(n_samples)))"
   ]
  }
 ],
 "metadata": {
  "kernelspec": {
   "display_name": "Python 3",
   "language": "python",
   "name": "python3"
  },
  "language_info": {
   "codemirror_mode": {
    "name": "ipython",
    "version": 3
   },
   "file_extension": ".py",
   "mimetype": "text/x-python",
   "name": "python",
   "nbconvert_exporter": "python",
   "pygments_lexer": "ipython3",
   "version": "3.7.5"
  }
 },
 "nbformat": 4,
 "nbformat_minor": 2
}
