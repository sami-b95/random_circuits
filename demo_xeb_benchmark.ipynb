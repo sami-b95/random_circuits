{
 "cells": [
  {
   "cell_type": "code",
   "execution_count": 1,
   "metadata": {},
   "outputs": [],
   "source": [
    "import sys\n",
    "sys.path.append(\".\")\n",
    "\n",
    "from functools import partial\n",
    "from importlib import reload\n",
    "from qiskit import QuantumRegister\n",
    "\n",
    "import unitary_designs\n",
    "import benchmarks\n",
    "unitary_designs = reload(unitary_designs)\n",
    "benchmarks = reload(benchmarks)"
   ]
  },
  {
   "cell_type": "markdown",
   "metadata": {},
   "source": [
    "# 1D local random design"
   ]
  },
  {
   "cell_type": "code",
   "execution_count": 2,
   "metadata": {},
   "outputs": [],
   "source": [
    "n_qubits = 10\n",
    "length = 20\n",
    "n_samples = 100"
   ]
  },
  {
   "cell_type": "code",
   "execution_count": 3,
   "metadata": {},
   "outputs": [
    {
     "data": {
      "text/plain": [
       "5.519366705763612"
      ]
     },
     "execution_count": 3,
     "metadata": {},
     "output_type": "execute_result"
    }
   ],
   "source": [
    "benchmarks.xeb_benchmark(\n",
    "    circuit_sampler=partial(unitary_designs.pseudorandom_1d_local_circuit, n_qubits=n_qubits, length=length),\n",
    "    n_circuits=n_samples\n",
    ")"
   ]
  },
  {
   "cell_type": "markdown",
   "metadata": {},
   "source": [
    "# 1D parallel random design"
   ]
  },
  {
   "cell_type": "code",
   "execution_count": 4,
   "metadata": {},
   "outputs": [],
   "source": [
    "n_qubits = 10\n",
    "length = 20\n",
    "n_samples = 100"
   ]
  },
  {
   "cell_type": "code",
   "execution_count": 5,
   "metadata": {},
   "outputs": [
    {
     "data": {
      "text/plain": [
       "1.0149292127056675"
      ]
     },
     "execution_count": 5,
     "metadata": {},
     "output_type": "execute_result"
    }
   ],
   "source": [
    "benchmarks.xeb_benchmark(\n",
    "    circuit_sampler=partial(unitary_designs.pseudorandom_1d_parallel_circuit, n_qubits=n_qubits, length=length),\n",
    "    n_circuits=n_samples\n",
    ")"
   ]
  },
  {
   "cell_type": "markdown",
   "metadata": {},
   "source": [
    "# 2D design"
   ]
  },
  {
   "cell_type": "code",
   "execution_count": 6,
   "metadata": {},
   "outputs": [],
   "source": [
    "n_qubits_per_dimension = 4\n",
    "s, c = 4, 2\n",
    "n_samples = 100"
   ]
  },
  {
   "cell_type": "code",
   "execution_count": 7,
   "metadata": {},
   "outputs": [
    {
     "data": {
      "text/plain": [
       "1.0225742984405308"
      ]
     },
     "execution_count": 7,
     "metadata": {},
     "output_type": "execute_result"
    }
   ],
   "source": [
    "benchmarks.xeb_benchmark(\n",
    "    circuit_sampler=partial(\n",
    "        unitary_designs.pseudorandom_parallel_circuit,\n",
    "        D=2,\n",
    "        n_qubits_per_dimension=n_qubits_per_dimension,\n",
    "        c=c,\n",
    "        s=s\n",
    "    ),\n",
    "    n_circuits=n_samples\n",
    ")"
   ]
  }
 ],
 "metadata": {
  "kernelspec": {
   "display_name": "Python 3",
   "language": "python",
   "name": "python3"
  },
  "language_info": {
   "codemirror_mode": {
    "name": "ipython",
    "version": 3
   },
   "file_extension": ".py",
   "mimetype": "text/x-python",
   "name": "python",
   "nbconvert_exporter": "python",
   "pygments_lexer": "ipython3",
   "version": "3.7.5"
  }
 },
 "nbformat": 4,
 "nbformat_minor": 2
}
